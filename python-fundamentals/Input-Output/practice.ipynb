{
 "cells": [
  {
   "cell_type": "code",
   "execution_count": 1,
   "metadata": {},
   "outputs": [
    {
     "name": "stdout",
     "output_type": "stream",
     "text": [
      "Hello Nischal\n"
     ]
    }
   ],
   "source": [
    "#Inbuilt function print()\n",
    "print(\"Hello Nischal\")"
   ]
  },
  {
   "cell_type": "code",
   "execution_count": 2,
   "metadata": {},
   "outputs": [
    {
     "name": "stdout",
     "output_type": "stream",
     "text": [
      "10\n"
     ]
    }
   ],
   "source": [
    "#Printing single variables\n",
    "a=10\n",
    "print(a)"
   ]
  },
  {
   "cell_type": "code",
   "execution_count": 5,
   "metadata": {},
   "outputs": [
    {
     "name": "stdout",
     "output_type": "stream",
     "text": [
      "Nischal 20\n"
     ]
    }
   ],
   "source": [
    "#Printing multiple variables in single line\n",
    "name=\"Nischal\"\n",
    "age=20\n",
    "print(name,age)\n"
   ]
  },
  {
   "cell_type": "code",
   "execution_count": 6,
   "metadata": {},
   "outputs": [
    {
     "name": "stdout",
     "output_type": "stream",
     "text": [
      "Amount:154.75\n"
     ]
    }
   ],
   "source": [
    "#Output Formatting\n",
    "#1 format() method\n",
    "amount = 154.75\n",
    "print(\"Amount:{:.2f}\".format(amount))"
   ]
  },
  {
   "cell_type": "code",
   "execution_count": 12,
   "metadata": {},
   "outputs": [
    {
     "name": "stdout",
     "output_type": "stream",
     "text": [
      "NIschal@Moktan\n",
      "HELLO\n",
      "H-E-L-L-O\n",
      "H@E@L@L@O\n"
     ]
    }
   ],
   "source": [
    "#2 Manipulation of sep and end parameters\n",
    "print(\"NIschal\",end='@')\n",
    "print(\"Moktan\")\n",
    "print('H','E','L','L','O',sep='')\n",
    "print('H','E','L','L','O',sep='-')\n",
    "print('H','E','L','L','O',sep='@')"
   ]
  },
  {
   "cell_type": "code",
   "execution_count": 13,
   "metadata": {},
   "outputs": [
    {
     "name": "stdout",
     "output_type": "stream",
     "text": [
      "My name is Nischal and I am 20 years old\n"
     ]
    }
   ],
   "source": [
    "#formatting strings\n",
    "name=\"Nischal\"\n",
    "age=20\n",
    "print(f\"My name is {name} and I am {age} years old\")"
   ]
  },
  {
   "cell_type": "code",
   "execution_count": 16,
   "metadata": {},
   "outputs": [
    {
     "name": "stdout",
     "output_type": "stream",
     "text": [
      "Your name is Nischal\n"
     ]
    }
   ],
   "source": [
    "#using % operator\n",
    "#%d for integer\n",
    "#%s for string\n",
    "#%f for float\n",
    "#%x for hexadecimal\n",
    "#%o for octal\n",
    "name=input(\"Enter your name:\")\n",
    "print(\"Your name is %s\"%name)"
   ]
  },
  {
   "cell_type": "code",
   "execution_count": 17,
   "metadata": {},
   "outputs": [
    {
     "name": "stdout",
     "output_type": "stream",
     "text": [
      "The value of sum is 20\n"
     ]
    }
   ],
   "source": [
    "num=int(input(\"Enter the value:\"))\n",
    "sum=num+10\n",
    "print(\"The value of sum is\",sum)"
   ]
  },
  {
   "cell_type": "code",
   "execution_count": 18,
   "metadata": {},
   "outputs": [
    {
     "name": "stdout",
     "output_type": "stream",
     "text": [
      "10.02\n"
     ]
    }
   ],
   "source": [
    "num=float(input(\"Enter the value:\"))\n",
    "print(num)\n"
   ]
  },
  {
   "cell_type": "code",
   "execution_count": 24,
   "metadata": {},
   "outputs": [
    {
     "name": "stdout",
     "output_type": "stream",
     "text": [
      "<class 'str'>\n",
      "<class 'str'>\n",
      "<class 'str'>\n",
      "The value of x 1\n",
      "The value of y 2.0\n",
      "The value of z 3\n",
      "<class 'int'>\n",
      "<class 'float'>\n",
      "<class 'str'>\n"
     ]
    }
   ],
   "source": [
    "#Multiple input\n",
    "x,y,z=input(\"Enter the values:\").split()\n",
    "print(type(x))\n",
    "print(type(y))\n",
    "print(type(z))\n",
    "x=int(x)\n",
    "y=float(y)\n",
    "z=z\n",
    "print(\"The value of x\",x)\n",
    "print(\"The value of y\",y)\n",
    "print(\"The value of z\",z)\n",
    "print(type(x))\n",
    "print(type(y))\n",
    "print(type(z))"
   ]
  }
 ],
 "metadata": {
  "kernelspec": {
   "display_name": "Python 3",
   "language": "python",
   "name": "python3"
  },
  "language_info": {
   "codemirror_mode": {
    "name": "ipython",
    "version": 3
   },
   "file_extension": ".py",
   "mimetype": "text/x-python",
   "name": "python",
   "nbconvert_exporter": "python",
   "pygments_lexer": "ipython3",
   "version": "3.12.3"
  }
 },
 "nbformat": 4,
 "nbformat_minor": 2
}
